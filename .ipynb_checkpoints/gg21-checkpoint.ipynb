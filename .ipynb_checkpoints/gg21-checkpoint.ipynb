{
 "cells": [
  {
   "cell_type": "code",
   "execution_count": 11,
   "id": "0fb231e4-2eff-47bc-8dac-89f6a74c5f83",
   "metadata": {},
   "outputs": [
    {
     "name": "stderr",
     "output_type": "stream",
     "text": [
      "/var/folders/bw/mdfcndxn3bj5q5_3cd6bnyym0000gn/T/ipykernel_24002/2423571124.py:30: UserWarning: pandas only supports SQLAlchemy connectable (engine/connection) or database string URI or sqlite3 DBAPI2 connection. Other DBAPI2 objects are not tested. Please consider using SQLAlchemy.\n",
      "  donations_df = pd.read_sql_query(query_1, conn)\n"
     ]
    },
    {
     "name": "stdout",
     "output_type": "stream",
     "text": [
      "3949685\n"
     ]
    }
   ],
   "source": [
    "import streamlit as st\n",
    "import pandas as pd\n",
    "import numpy as np\n",
    "import psycopg2 as pg\n",
    "\n",
    "DB_HOST = '137.184.237.13'\n",
    "DB_PORT = 5432\n",
    "DB_NAME = 'Grants'\n",
    "DB_USERNAME = 'sybilhunter'\n",
    "DB_PASSWORD = 'hunterxhunter420'\n",
    "\n",
    "query_1 = \"\"\"\n",
    "SELECT d.\"round_num\" AS \"Round Num\",\n",
    "       d.\"round_name\" AS \"Round Name\",\n",
    "       d.\"donor_address\" AS \"Voter\",\n",
    "       d.\"amount_in_usd\" AS \"AmountUSD\",\n",
    "       lower(d.\"recipient_address\") AS \"PayoutAddress\",\n",
    "       d.\"timestamp\" AS \"Tx Timestamp\",\n",
    "       d.\"project_name\" AS \"Project Name\",\n",
    "       d.\"source\" AS \"Source\"\n",
    "FROM all_donations d\n",
    "-- Select only donations in Gitcoin Grants\n",
    "WHERE d.\"round_num\" is NOT NULL\n",
    "\"\"\"\n",
    "\n",
    "test_address = '0x2dd2036C9Db2ADA2739509AF0047c00C8b9291EF'\n",
    "\n",
    "# Connect to the PostgreSQL database\n",
    "conn = pg.connect(host=DB_HOST, port=DB_PORT, dbname=DB_NAME, user=DB_USERNAME, password=DB_PASSWORD)\n",
    "donations_df = pd.read_sql_query(query_1, conn)    \n",
    "conn.close()\n",
    "\n",
    "print(len(donations_df))"
   ]
  },
  {
   "cell_type": "code",
   "execution_count": null,
   "id": "5ae3206a-aa21-4d18-b4f1-609da57a0beb",
   "metadata": {},
   "outputs": [],
   "source": []
  },
  {
   "cell_type": "code",
   "execution_count": null,
   "id": "f565edc6-89ac-42ec-b08b-eb1b355d74d8",
   "metadata": {},
   "outputs": [],
   "source": []
  }
 ],
 "metadata": {
  "kernelspec": {
   "display_name": "Python 3 (ipykernel)",
   "language": "python",
   "name": "python3"
  },
  "language_info": {
   "codemirror_mode": {
    "name": "ipython",
    "version": 3
   },
   "file_extension": ".py",
   "mimetype": "text/x-python",
   "name": "python",
   "nbconvert_exporter": "python",
   "pygments_lexer": "ipython3",
   "version": "3.9.6"
  }
 },
 "nbformat": 4,
 "nbformat_minor": 5
}
